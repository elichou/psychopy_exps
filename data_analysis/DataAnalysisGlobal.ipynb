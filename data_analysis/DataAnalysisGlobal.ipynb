{
 "cells": [
  {
   "cell_type": "markdown",
   "id": "fe4782e0",
   "metadata": {},
   "source": [
    "# Imports"
   ]
  },
  {
   "cell_type": "markdown",
   "id": "bee12b74",
   "metadata": {},
   "source": [
    "# Performances générales"
   ]
  },
  {
   "cell_type": "markdown",
   "id": "67939a0f",
   "metadata": {},
   "source": [
    "# Performances par condition"
   ]
  },
  {
   "cell_type": "markdown",
   "id": "bb44d422",
   "metadata": {},
   "source": [
    "# Graphiques"
   ]
  },
  {
   "cell_type": "markdown",
   "id": "8403bb6e",
   "metadata": {},
   "source": [
    "# Analyse des erreurs"
   ]
  },
  {
   "cell_type": "markdown",
   "id": "e2f45311",
   "metadata": {},
   "source": [
    "# Comparaison entre participants"
   ]
  },
  {
   "cell_type": "code",
   "execution_count": null,
   "id": "47c468a5",
   "metadata": {},
   "outputs": [],
   "source": []
  }
 ],
 "metadata": {
  "kernelspec": {
   "display_name": "Python 3 (ipykernel)",
   "language": "python",
   "name": "python3"
  },
  "language_info": {
   "codemirror_mode": {
    "name": "ipython",
    "version": 3
   },
   "file_extension": ".py",
   "mimetype": "text/x-python",
   "name": "python",
   "nbconvert_exporter": "python",
   "pygments_lexer": "ipython3",
   "version": "3.10.9"
  }
 },
 "nbformat": 4,
 "nbformat_minor": 5
}
