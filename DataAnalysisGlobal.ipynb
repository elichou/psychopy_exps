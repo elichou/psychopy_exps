{
 "cells": [
  {
   "cell_type": "markdown",
   "id": "b238f08e",
   "metadata": {},
   "source": [
    "# Imports"
   ]
  },
  {
   "cell_type": "code",
   "execution_count": 16,
   "id": "b744c056",
   "metadata": {},
   "outputs": [],
   "source": [
    "import pandas as pd\n",
    "import os\n",
    "import glob\n"
   ]
  },
  {
   "cell_type": "markdown",
   "id": "71a46d7e",
   "metadata": {},
   "source": [
    "# Traitement des données"
   ]
  },
  {
   "cell_type": "code",
   "execution_count": 17,
   "id": "99e2789e",
   "metadata": {},
   "outputs": [],
   "source": [
    "folder_path = './data'\n",
    "all_csv_files = glob.glob(os.path.join(folder_path, '*.csv'))\n",
    "\n",
    "dataframes = []\n",
    "\n",
    "for csv_file in all_csv_files:\n",
    "    df = pd.read_csv(csv_file)\n",
    "    dataframes.append(df)\n",
    "    \n",
    "merged_df = pd.concat(dataframes)\n",
    "\n",
    "merged_df['is_task_obs'] = merged_df['is_task_obs'].fillna(2)\n",
    "\n",
    "merged_csv_file = './data/merged_data.csv'\n",
    "\n",
    "merged_df.to_csv(merged_csv_file, index=False)\n",
    "\n"
   ]
  },
  {
   "cell_type": "markdown",
   "id": "c7d6f329",
   "metadata": {},
   "source": [
    "# Performances générales"
   ]
  },
  {
   "cell_type": "markdown",
   "id": "5dc58d5d",
   "metadata": {},
   "source": [
    "# Performances par condition"
   ]
  },
  {
   "cell_type": "markdown",
   "id": "ae435d4e",
   "metadata": {},
   "source": [
    "# Graphiques"
   ]
  },
  {
   "cell_type": "markdown",
   "id": "f65c9c78",
   "metadata": {},
   "source": [
    "# Analyse des erreurs"
   ]
  },
  {
   "cell_type": "markdown",
   "id": "25f665df",
   "metadata": {},
   "source": [
    "# Comparaison entre participants"
   ]
  },
  {
   "cell_type": "code",
   "execution_count": null,
   "id": "462367bc",
   "metadata": {},
   "outputs": [],
   "source": []
  }
 ],
 "metadata": {
  "kernelspec": {
   "display_name": "Python 3 (ipykernel)",
   "language": "python",
   "name": "python3"
  },
  "language_info": {
   "codemirror_mode": {
    "name": "ipython",
    "version": 3
   },
   "file_extension": ".py",
   "mimetype": "text/x-python",
   "name": "python",
   "nbconvert_exporter": "python",
   "pygments_lexer": "ipython3",
   "version": "3.10.9"
  }
 },
 "nbformat": 4,
 "nbformat_minor": 5
}
