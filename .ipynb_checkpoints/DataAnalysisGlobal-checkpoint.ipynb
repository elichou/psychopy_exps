{
 "cells": [
  {
   "cell_type": "markdown",
   "id": "bb5b4682",
   "metadata": {},
   "source": [
    "# Imports"
   ]
  },
  {
   "cell_type": "code",
   "execution_count": 13,
   "id": "26002457",
   "metadata": {},
   "outputs": [],
   "source": [
    "import pandas as pd\n",
    "import os\n",
    "import glob\n"
   ]
  },
  {
   "cell_type": "markdown",
   "id": "88b57072",
   "metadata": {},
   "source": [
    "# Traitement des données"
   ]
  },
  {
   "cell_type": "code",
   "execution_count": 15,
   "id": "3068967f",
   "metadata": {},
   "outputs": [
    {
     "name": "stderr",
     "output_type": "stream",
     "text": [
      "/var/folders/j0/wmsz9yf51jbg3gxkfqp41vcw0000gn/T/ipykernel_20786/428233072.py:7: DtypeWarning: Columns (65,68,72,76,88,103,134,135) have mixed types. Specify dtype option on import or set low_memory=False.\n",
      "  df = pd.read_csv(csv_file)\n"
     ]
    }
   ],
   "source": [
    "folder_path = './data'\n",
    "all_csv_files = glob.glob(os.path.join(folder_path, '*.csv'))\n",
    "\n",
    "dataframes = []\n",
    "\n",
    "for csv_file in all_csv_files:\n",
    "    df = pd.read_csv(csv_file)\n",
    "    dataframes.append(df)\n",
    "    \n",
    "merged_df = pd.concat(dataframes)\n",
    "\n",
    "merged_df['is_task_obs'] = merged_df['is_task_obs'].fillna(2)\n",
    "\n",
    "merged_csv_file = './data/merged_data.csv'\n",
    "\n",
    "merged_df.to_csv(merged_csv_file, index=False)\n",
    "\n"
   ]
  },
  {
   "cell_type": "markdown",
   "id": "4feadac6",
   "metadata": {},
   "source": [
    "# Performances générales"
   ]
  },
  {
   "cell_type": "markdown",
   "id": "e178214c",
   "metadata": {},
   "source": [
    "# Performances par condition"
   ]
  },
  {
   "cell_type": "markdown",
   "id": "982396e2",
   "metadata": {},
   "source": [
    "# Graphiques"
   ]
  },
  {
   "cell_type": "markdown",
   "id": "1da92417",
   "metadata": {},
   "source": [
    "# Analyse des erreurs"
   ]
  },
  {
   "cell_type": "markdown",
   "id": "c47e7045",
   "metadata": {},
   "source": [
    "# Comparaison entre participants"
   ]
  },
  {
   "cell_type": "code",
   "execution_count": null,
   "id": "5676b268",
   "metadata": {},
   "outputs": [],
   "source": []
  }
 ],
 "metadata": {
  "kernelspec": {
   "display_name": "Python 3 (ipykernel)",
   "language": "python",
   "name": "python3"
  },
  "language_info": {
   "codemirror_mode": {
    "name": "ipython",
    "version": 3
   },
   "file_extension": ".py",
   "mimetype": "text/x-python",
   "name": "python",
   "nbconvert_exporter": "python",
   "pygments_lexer": "ipython3",
   "version": "3.10.9"
  }
 },
 "nbformat": 4,
 "nbformat_minor": 5
}
