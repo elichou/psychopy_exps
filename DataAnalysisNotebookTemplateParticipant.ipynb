{
 "cells": [
  {
   "cell_type": "markdown",
   "id": "1f837227",
   "metadata": {},
   "source": [
    "# Imports"
   ]
  },
  {
   "cell_type": "code",
   "execution_count": 79,
   "id": "2fef67e7",
   "metadata": {},
   "outputs": [],
   "source": [
    "import pandas as pd\n",
    "import matplotlib.pyplot as plt\n",
    "import numpy as np\n",
    "from pathlib import Path\n",
    "import seaborn as sns"
   ]
  },
  {
   "cell_type": "markdown",
   "id": "d7e124f5-597f-417d-94d6-4ccd5dab5afa",
   "metadata": {},
   "source": [
    "# Identifiant du participant"
   ]
  },
  {
   "cell_type": "code",
   "execution_count": 80,
   "id": "52d20cc3",
   "metadata": {},
   "outputs": [
    {
     "name": "stdout",
     "output_type": "stream",
     "text": [
      "Entrez l'identifiant du participant : 235661\n",
      "L'identifiant du participant est 235661\n"
     ]
    }
   ],
   "source": [
    "participant_id = input(\"Entrez l'identifiant du participant : \")\n",
    "print(\"L'identifiant du participant est {}\".format(participant_id))"
   ]
  },
  {
   "cell_type": "code",
   "execution_count": null,
   "id": "75bab485",
   "metadata": {},
   "outputs": [],
   "source": []
  },
  {
   "cell_type": "code",
   "execution_count": 81,
   "id": "1737ac10-1e11-4543-9535-801965a9f09d",
   "metadata": {},
   "outputs": [],
   "source": [
    "def import_participant_data(participant_id, path='./data/'):\n",
    "    file_pattern = f\"{participant_id}_vb_task_exp_*.csv\"\n",
    "    files = Path(path).glob(file_pattern)\n",
    "\n",
    "    dfs = list()\n",
    "    for f in files:\n",
    "        data = pd.read_csv(f)\n",
    "        data['file'] = f.stem\n",
    "        dfs.append(data)\n",
    "\n",
    "    if dfs:\n",
    "        df = pd.concat(dfs, ignore_index=True)\n",
    "        return df\n",
    "    else:\n",
    "        print(f\"Aucun fichier trouvé pour l'identifiant du participant {participant_id}\")\n",
    "        return None\n",
    "\n",
    "df = import_participant_data(participant_id)"
   ]
  },
  {
   "cell_type": "markdown",
   "id": "f3843855",
   "metadata": {},
   "source": [
    "# Rémunération"
   ]
  },
  {
   "cell_type": "code",
   "execution_count": 82,
   "id": "be15b418",
   "metadata": {
    "scrolled": true
   },
   "outputs": [
    {
     "name": "stdout",
     "output_type": "stream",
     "text": [
      "La rémunération pour ce joueur est de : 12 euros\n"
     ]
    }
   ],
   "source": [
    "df_remu = abs(df['attractiveness.response'] - df['impact'])\n",
    "df_clean = df_remu.dropna()\n",
    "\n",
    "def inverse_linear_mapping(difference, min_diff=0, max_diff=20, min_output=10, max_output=0):\n",
    "    # Vérifier et ajuster les limites de la différence\n",
    "    difference = max(min_diff, min(difference, max_diff))\n",
    "    \n",
    "    # Appliquer la transformation linéaire\n",
    "    normalized_diff = (difference - min_diff) / (max_diff - min_diff)\n",
    "    mapped_value = min_output + normalized_diff * (max_output - min_output)\n",
    "    \n",
    "    # Arrondir et retourner un entier entre 0 et 10\n",
    "    return round(mapped_value)\n",
    "\n",
    "random_sample = df_clean.sample(n=1)\n",
    "result = inverse_linear_mapping(random_sample.iloc[0])\n",
    "print(\"La rémunération pour ce joueur est de : {} euros\".format(result + 5))\n"
   ]
  },
  {
   "cell_type": "markdown",
   "id": "991b160e",
   "metadata": {},
   "source": [
    "# Performances générales"
   ]
  },
  {
   "cell_type": "markdown",
   "id": "07ceb7d4",
   "metadata": {},
   "source": [
    "Durée moyenne de réponse"
   ]
  },
  {
   "cell_type": "code",
   "execution_count": 72,
   "id": "db5566dc",
   "metadata": {},
   "outputs": [
    {
     "data": {
      "image/png": "[encoded data removed]",
      "text/plain": [
       "<Figure size 640x480 with 1 Axes>"
      ]
     },
     "metadata": {},
     "output_type": "display_data"
    }
   ],
   "source": [
    "# Mappez les valeurs binaires sur les noms des conditions et ajoutez une condition pour les données d'entraînement\n",
    "condition_mapping = {0: 'Exp 2', 1: 'Exp 3', None: 'Exp 1'}\n",
    "df['condition'] = df['is_task_obs'].map(condition_mapping)\n",
    "\n",
    "df_training = df[['key_resp_training.rt', 'condition']].dropna(subset=['key_resp_training.rt']).rename(columns={'key_resp_training.rt': 'reaction_time'})\n",
    "df_training['source'] = 'key_resp_training.rt'\n",
    "\n",
    "df_3 = df[['key_resp_3.rt', 'condition']].dropna(subset=['key_resp_3.rt']).rename(columns={'key_resp_3.rt': 'reaction_time'})\n",
    "df_3['source'] = 'key_resp_3.rt'\n",
    "\n",
    "df_combined = pd.concat([df_training, df_3], ignore_index=True)\n",
    "\n",
    "# Créez le box plot en utilisant seaborn\n",
    "sns.boxplot(x='condition', y='reaction_time', hue='source', data=df_combined)\n",
    "\n",
    "# Personnalisez l'apparence du tracé\n",
    "plt.xlabel('Condition')\n",
    "plt.ylabel('Reaction Time (s)')\n",
    "plt.title('Reaction Time by Experiment')\n",
    "\n",
    "# Affichez le tracé\n",
    "plt.show()"
   ]
  },
  {
   "cell_type": "markdown",
   "id": "d9e451f0",
   "metadata": {},
   "source": [
    "Regret cumulé"
   ]
  },
  {
   "cell_type": "markdown",
   "id": "699639bd",
   "metadata": {},
   "source": [
    "Somme cumulée redimensionnée"
   ]
  },
  {
   "cell_type": "markdown",
   "id": "d647f137",
   "metadata": {
    "slideshow": {
     "slide_type": "slide"
    },
    "tags": []
   },
   "source": [
    "# Performances par condition"
   ]
  },
  {
   "cell_type": "markdown",
   "id": "efb3985c",
   "metadata": {},
   "source": [
    "# Graphiques"
   ]
  },
  {
   "cell_type": "markdown",
   "id": "576469bd",
   "metadata": {},
   "source": [
    "# Analyse des erreurs"
   ]
  },
  {
   "cell_type": "markdown",
   "id": "cc7fc45e",
   "metadata": {},
   "source": [
    "# Comparaison avec d'autres participants"
   ]
  }
 ],
 "metadata": {
  "kernelspec": {
   "display_name": "Python 3 (ipykernel)",
   "language": "python",
   "name": "python3"
  },
  "language_info": {
   "codemirror_mode": {
    "name": "ipython",
    "version": 3
   },
   "file_extension": ".py",
   "mimetype": "text/x-python",
   "name": "python",
   "nbconvert_exporter": "python",
   "pygments_lexer": "ipython3",
   "version": "3.10.9"
  }
 },
 "nbformat": 4,
 "nbformat_minor": 5
}
