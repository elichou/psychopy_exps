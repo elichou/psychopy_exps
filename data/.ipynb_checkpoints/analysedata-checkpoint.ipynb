{
 "cells": [
  {
   "cell_type": "code",
   "execution_count": 32,
   "id": "c0f7f931-9efd-4504-8cc3-0eb698adfd95",
   "metadata": {},
   "outputs": [],
   "source": [
    "import pandas as pd\n",
    "import matplotlib.pyplot as plt"
   ]
  },
  {
   "cell_type": "code",
   "execution_count": 4,
   "id": "1737ac10-1e11-4543-9535-801965a9f09d",
   "metadata": {},
   "outputs": [],
   "source": [
    " data = pd.read_csv('data_test.csv')"
   ]
  },
  {
   "cell_type": "code",
   "execution_count": 18,
   "id": "87bc1615-712d-45e4-b908-e71eba66a506",
   "metadata": {},
   "outputs": [
    {
     "name": "stdout",
     "output_type": "stream",
     "text": [
      "Condition\n",
      "bern_param_play\n",
      "bern_param_not_play\n",
      "dP\n",
      "training.thisRepN\n",
      "training.thisTrialN\n",
      "training.thisN\n",
      "training.thisIndex\n",
      "text_instr.started\n",
      "image_next.started\n",
      "mouse.started\n",
      "mouse.x\n",
      "mouse.y\n",
      "mouse.leftButton\n",
      "mouse.midButton\n",
      "mouse.rightButton\n",
      "mouse.time\n",
      "mouse.clicked_name\n",
      "text_instr_2.started\n",
      "image_next_2.started\n",
      "mouse_2.started\n",
      "mouse_2.x\n",
      "mouse_2.y\n",
      "mouse_2.leftButton\n",
      "mouse_2.midButton\n",
      "mouse_2.rightButton\n",
      "mouse_2.time\n",
      "mouse_2.clicked_name\n",
      "text_instr_3.started\n",
      "image_next_3.started\n",
      "mouse_3.started\n",
      "image_with.started\n",
      "image_without.started\n",
      "mouse_3.x\n",
      "mouse_3.y\n",
      "mouse_3.leftButton\n",
      "mouse_3.midButton\n",
      "mouse_3.rightButton\n",
      "mouse_3.time\n",
      "mouse_3.clicked_name\n",
      "text_instr_4.started\n",
      "image_next_4.started\n",
      "mouse_4.started\n",
      "images_win.started\n",
      "image_loose.started\n",
      "mouse_4.x\n",
      "mouse_4.y\n",
      "mouse_4.leftButton\n",
      "mouse_4.midButton\n",
      "mouse_4.rightButton\n",
      "mouse_4.time\n",
      "mouse_4.clicked_name\n",
      "text_instr_5.started\n",
      "image_next_5.started\n",
      "mouse_5.started\n",
      "mouse_5.x\n",
      "mouse_5.y\n",
      "mouse_5.leftButton\n",
      "mouse_5.midButton\n",
      "mouse_5.rightButton\n",
      "mouse_5.time\n",
      "mouse_5.clicked_name\n",
      "text_instr_6.started\n",
      "image_next_6.started\n",
      "mouse_6.started\n",
      "mouse_6.x\n",
      "mouse_6.y\n",
      "mouse_6.leftButton\n",
      "mouse_6.midButton\n",
      "mouse_6.rightButton\n",
      "mouse_6.time\n",
      "mouse_6.clicked_name\n",
      "text_instr_7.started\n",
      "image_next_7.started\n",
      "mouse_7.started\n",
      "mouse_7.x\n",
      "mouse_7.y\n",
      "mouse_7.leftButton\n",
      "mouse_7.midButton\n",
      "mouse_7.rightButton\n",
      "mouse_7.time\n",
      "mouse_7.clicked_name\n",
      "text_instr_8.started\n",
      "image_next_8.started\n",
      "mouse_8.started\n",
      "mouse_8.x\n",
      "mouse_8.y\n",
      "mouse_8.leftButton\n",
      "mouse_8.midButton\n",
      "mouse_8.rightButton\n",
      "mouse_8.time\n",
      "mouse_8.clicked_name\n",
      "text_instr_9.started\n",
      "image_next_9.started\n",
      "mouse_9.started\n",
      "mouse_9.x\n",
      "mouse_9.y\n",
      "mouse_9.leftButton\n",
      "mouse_9.midButton\n",
      "mouse_9.rightButton\n",
      "mouse_9.time\n",
      "mouse_9.clicked_name\n",
      "text_instr_13.started\n",
      "image_next_13.started\n",
      "mouse_13.started\n",
      "mouse_13.x\n",
      "mouse_13.y\n",
      "mouse_13.leftButton\n",
      "mouse_13.midButton\n",
      "mouse_13.rightButton\n",
      "mouse_13.time\n",
      "mouse_13.clicked_name\n",
      "key_resp.started\n",
      "avec.started\n",
      "sans.started\n",
      "key_resp.keys\n",
      "key_resp.corr\n",
      "key_resp.rt\n",
      "image_outcome.started\n",
      "text_countdown.started\n",
      "text_instr_14.started\n",
      "image_next_14.started\n",
      "mouse_14.started\n",
      "participant\n",
      "session\n",
      "date\n",
      "expName\n",
      "psychopyVersion\n",
      "frameRate\n",
      "Unnamed: 129\n"
     ]
    }
   ],
   "source": [
    "for item in data.columns: \n",
    "    print(item)"
   ]
  },
  {
   "cell_type": "code",
   "execution_count": 26,
   "id": "9c0045d2-b084-4dcc-88e7-0f3d17b9ddf4",
   "metadata": {},
   "outputs": [
    {
     "data": {
      "text/plain": [
       "0       NaN\n",
       "1       NaN\n",
       "2       NaN\n",
       "3       NaN\n",
       "4       NaN\n",
       "5       NaN\n",
       "6       NaN\n",
       "7       NaN\n",
       "8       NaN\n",
       "9       NaN\n",
       "10     left\n",
       "11     left\n",
       "12    right\n",
       "13     left\n",
       "14     left\n",
       "15    right\n",
       "16     left\n",
       "17     left\n",
       "18     left\n",
       "19     left\n",
       "20      NaN\n",
       "Name: key_resp.keys, dtype: object"
      ]
     },
     "execution_count": 26,
     "metadata": {},
     "output_type": "execute_result"
    }
   ],
   "source": [
    "data[\"key_resp.keys\"]"
   ]
  },
  {
   "cell_type": "code",
   "execution_count": 29,
   "id": "4c2955e8-1f92-4af0-a27d-d895b3d2a585",
   "metadata": {},
   "outputs": [
    {
     "name": "stdout",
     "output_type": "stream",
     "text": [
      "[1, 1, 0, 1, 1, 0, 1, 1, 1, 1]\n"
     ]
    }
   ],
   "source": [
    "list_actions = []\n",
    "for i, action in enumerate(data[\"key_resp.keys\"]):\n",
    "    if action == \"left\":\n",
    "        list_actions.append(1)\n",
    "    if action == \"right\":\n",
    "        list_actions.append(0)\n",
    "print(list_actions)"
   ]
  },
  {
   "cell_type": "code",
   "execution_count": 31,
   "id": "35f30985-314e-4a2e-8551-bf757d05fa96",
   "metadata": {},
   "outputs": [
    {
     "name": "stdout",
     "output_type": "stream",
     "text": [
      "[1.0, 1.0, 0.6666666666666666, 0.75, 0.8, 0.6666666666666666, 0.7142857142857143, 0.75, 0.7777777777777778, 0.8]\n"
     ]
    }
   ],
   "source": [
    "num_actions = 0\n",
    "p_play = []\n",
    "for i, action in enumerate(list_actions):\n",
    "    if action == 1: \n",
    "        num_actions += 1\n",
    "    p_play.append(num_actions/(i+1))\n",
    "print(p_play)\n",
    "    "
   ]
  },
  {
   "cell_type": "code",
   "execution_count": 34,
   "id": "37b58008-cfb9-4d3e-bb34-93bfb45c1a6f",
   "metadata": {},
   "outputs": [
    {
     "data": {
      "text/plain": [
       "[<matplotlib.lines.Line2D at 0x16928d910>]"
      ]
     },
     "execution_count": 34,
     "metadata": {},
     "output_type": "execute_result"
    },
    {
     "data": {
      "image/png": "[encoded data removed]",
      "text/plain": [
       "<Figure size 432x288 with 1 Axes>"
      ]
     },
     "metadata": {
      "needs_background": "light"
     },
     "output_type": "display_data"
    }
   ],
   "source": [
    "plt.plot(p_play)"
   ]
  }
 ],
 "metadata": {
  "kernelspec": {
   "display_name": "Python 3 (ipykernel)",
   "language": "python",
   "name": "python3"
  },
  "language_info": {
   "codemirror_mode": {
    "name": "ipython",
    "version": 3
   },
   "file_extension": ".py",
   "mimetype": "text/x-python",
   "name": "python",
   "nbconvert_exporter": "python",
   "pygments_lexer": "ipython3",
   "version": "3.9.16"
  }
 },
 "nbformat": 4,
 "nbformat_minor": 5
}
